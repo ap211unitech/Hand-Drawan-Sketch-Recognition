{
  "nbformat": 4,
  "nbformat_minor": 0,
  "metadata": {
    "colab": {
      "name": "B19CSE016_B19CSE017_B19EE014.ipynb",
      "provenance": [],
      "collapsed_sections": []
    },
    "kernelspec": {
      "display_name": "Python 3",
      "name": "python3"
    },
    "language_info": {
      "name": "python"
    }
  },
  "cells": [
    {
      "cell_type": "markdown",
      "metadata": {
        "id": "yduWc0GWrUBZ"
      },
      "source": [
        "# Freehand sketch object recognition"
      ]
    },
    {
      "cell_type": "code",
      "metadata": {
        "id": "B6Om3XUdiRqO"
      },
      "source": [
        "import os\n",
        "import glob\n",
        "import sklearn\n",
        "import numpy as np\n",
        "import pandas as pd\n",
        "import seaborn as sns\n",
        "import urllib.request\n",
        "import tensorflow as tf\n",
        "from PIL import Image as im\n",
        "from matplotlib import pyplot\n",
        "from tensorflow import keras \n",
        "from tensorflow.keras import layers\n",
        "from sklearn.model_selection import KFold\n",
        "from sklearn.metrics import classification_report, confusion_matrix, accuracy_score"
      ],
      "execution_count": null,
      "outputs": []
    },
    {
      "cell_type": "code",
      "metadata": {
        "id": "_FSZLda2iT0X"
      },
      "source": [
        "classes = ['cat','bicycle', 'bear','airplane',\n",
        "                'ant','banana','bench','book',\n",
        "                'bottlecap', 'bread']\n",
        "\n",
        "url = 'https://storage.googleapis.com/quickdraw_dataset/full/numpy_bitmap/'"
      ],
      "execution_count": null,
      "outputs": []
    },
    {
      "cell_type": "code",
      "metadata": {
        "colab": {
          "base_uri": "https://localhost:8080/"
        },
        "id": "3Pa6U6rLiVQr",
        "outputId": "308df131-02bf-4374-ce86-5897149cb019"
      },
      "source": [
        "# Download the data of the aforementioned classes\n",
        "for class_ in classes:\n",
        "\tcomplete_url = url+class_+\".npy\"\n",
        "\tprint(\"Downloading : \",complete_url)\n",
        "\turllib.request.urlretrieve(complete_url, \"./\"+class_+\".npy\")"
      ],
      "execution_count": null,
      "outputs": [
        {
          "output_type": "stream",
          "text": [
            "Downloading :  https://storage.googleapis.com/quickdraw_dataset/full/numpy_bitmap/cat.npy\n",
            "Downloading :  https://storage.googleapis.com/quickdraw_dataset/full/numpy_bitmap/bicycle.npy\n",
            "Downloading :  https://storage.googleapis.com/quickdraw_dataset/full/numpy_bitmap/bear.npy\n",
            "Downloading :  https://storage.googleapis.com/quickdraw_dataset/full/numpy_bitmap/airplane.npy\n",
            "Downloading :  https://storage.googleapis.com/quickdraw_dataset/full/numpy_bitmap/ant.npy\n",
            "Downloading :  https://storage.googleapis.com/quickdraw_dataset/full/numpy_bitmap/banana.npy\n",
            "Downloading :  https://storage.googleapis.com/quickdraw_dataset/full/numpy_bitmap/bench.npy\n",
            "Downloading :  https://storage.googleapis.com/quickdraw_dataset/full/numpy_bitmap/book.npy\n",
            "Downloading :  https://storage.googleapis.com/quickdraw_dataset/full/numpy_bitmap/bottlecap.npy\n",
            "Downloading :  https://storage.googleapis.com/quickdraw_dataset/full/numpy_bitmap/bread.npy\n"
          ],
          "name": "stdout"
        }
      ]
    },
    {
      "cell_type": "code",
      "metadata": {
        "id": "czlaYWBfiWi2"
      },
      "source": [
        "# Grep all the downloaded files and add them to a list\n",
        "data_sets = glob.glob(os.path.join('./*.npy'))"
      ],
      "execution_count": null,
      "outputs": []
    },
    {
      "cell_type": "code",
      "metadata": {
        "id": "tOjOs42diYi3"
      },
      "source": [
        "#initialize variables \n",
        "# Train data\n",
        "input = np.empty([0, 784]) \n",
        "# Test data\n",
        "labels = np.empty([0])\t\n",
        "index = 0"
      ],
      "execution_count": null,
      "outputs": []
    },
    {
      "cell_type": "code",
      "metadata": {
        "id": "fIHAruVAiZ8y"
      },
      "source": [
        "# Concatenate the train and test data from all the files\n",
        "for file in data_sets:\n",
        "\tdata = np.load(file)\n",
        "\tdata = data[0: 6000, :]\n",
        "\tinput = np.concatenate((input, data), axis=0)\n",
        "\tlabels = np.append(labels, [index]*data.shape[0])\n",
        "\tindex += 1"
      ],
      "execution_count": null,
      "outputs": []
    },
    {
      "cell_type": "code",
      "metadata": {
        "id": "wKNGnRBwico-"
      },
      "source": [
        "# K-Folds cross-validator\n",
        "n_fold = 5\n",
        "kf = KFold(n_splits=n_fold, shuffle=True, random_state=9)\n",
        "x_train, x_test, y_train, y_test = None, None, None, None\n",
        "random_ordering = np.random.permutation(input.shape[0])\n",
        "input = input[random_ordering, :]\n",
        "labels = labels[random_ordering]\n",
        "\n",
        "# Divide the dataset into train and test\n",
        "for train_index, test_index in kf.split(input):\n",
        "    x_train, x_test = input[train_index], input[test_index]\n",
        "    y_train, y_test = labels[train_index], labels[test_index]\n",
        "    break"
      ],
      "execution_count": null,
      "outputs": []
    },
    {
      "cell_type": "code",
      "metadata": {
        "colab": {
          "base_uri": "https://localhost:8080/"
        },
        "id": "E01v0KfUN328",
        "outputId": "7f7aed4b-69e2-421a-c6bf-f3afaa421fbf"
      },
      "source": [
        "len(x_train)"
      ],
      "execution_count": null,
      "outputs": [
        {
          "output_type": "execute_result",
          "data": {
            "text/plain": [
              "48000"
            ]
          },
          "metadata": {
            "tags": []
          },
          "execution_count": 8
        }
      ]
    },
    {
      "cell_type": "code",
      "metadata": {
        "colab": {
          "base_uri": "https://localhost:8080/"
        },
        "id": "o62R7AFcN6ri",
        "outputId": "f1ca55fe-0faf-4883-b4bd-c868975b54df"
      },
      "source": [
        "len(x_test)"
      ],
      "execution_count": null,
      "outputs": [
        {
          "output_type": "execute_result",
          "data": {
            "text/plain": [
              "12000"
            ]
          },
          "metadata": {
            "tags": []
          },
          "execution_count": 9
        }
      ]
    },
    {
      "cell_type": "code",
      "metadata": {
        "colab": {
          "base_uri": "https://localhost:8080/"
        },
        "id": "ADmF_wmasUcY",
        "outputId": "c0d133d2-4fcd-4d39-f4ec-a35856b294cf"
      },
      "source": [
        "x_train[:20]"
      ],
      "execution_count": null,
      "outputs": [
        {
          "output_type": "execute_result",
          "data": {
            "text/plain": [
              "array([[0., 0., 0., ..., 0., 0., 0.],\n",
              "       [0., 0., 0., ..., 0., 0., 0.],\n",
              "       [0., 0., 0., ..., 0., 0., 0.],\n",
              "       ...,\n",
              "       [0., 0., 0., ..., 0., 0., 0.],\n",
              "       [0., 0., 0., ..., 0., 0., 0.],\n",
              "       [0., 0., 0., ..., 0., 0., 0.]])"
            ]
          },
          "metadata": {
            "tags": []
          },
          "execution_count": 10
        }
      ]
    },
    {
      "cell_type": "code",
      "metadata": {
        "colab": {
          "base_uri": "https://localhost:8080/"
        },
        "id": "09GWLnL6scUZ",
        "outputId": "f368905a-c45c-42de-880a-b1a90bd86fdb"
      },
      "source": [
        "x_test[:20]"
      ],
      "execution_count": null,
      "outputs": [
        {
          "output_type": "execute_result",
          "data": {
            "text/plain": [
              "array([[0., 0., 0., ..., 0., 0., 0.],\n",
              "       [0., 0., 0., ..., 0., 0., 0.],\n",
              "       [0., 0., 0., ..., 0., 0., 0.],\n",
              "       ...,\n",
              "       [0., 0., 0., ..., 0., 0., 0.],\n",
              "       [0., 0., 0., ..., 0., 0., 0.],\n",
              "       [0., 0., 0., ..., 0., 0., 0.]])"
            ]
          },
          "metadata": {
            "tags": []
          },
          "execution_count": 11
        }
      ]
    },
    {
      "cell_type": "code",
      "metadata": {
        "colab": {
          "base_uri": "https://localhost:8080/"
        },
        "id": "iBztGakVsfrt",
        "outputId": "26b388a4-2c96-497f-93d2-18c50fcdcb6c"
      },
      "source": [
        "y_train[:20]"
      ],
      "execution_count": null,
      "outputs": [
        {
          "output_type": "execute_result",
          "data": {
            "text/plain": [
              "array([2., 4., 2., 4., 1., 7., 5., 9., 9., 9., 5., 7., 8., 3., 4., 2., 5.,\n",
              "       8., 4., 6.])"
            ]
          },
          "metadata": {
            "tags": []
          },
          "execution_count": 12
        }
      ]
    },
    {
      "cell_type": "code",
      "metadata": {
        "colab": {
          "base_uri": "https://localhost:8080/"
        },
        "id": "pUGYfilOsiRW",
        "outputId": "09aa21f6-07a2-442c-8be4-c4ed5ece12b4"
      },
      "source": [
        "y_test[:20]"
      ],
      "execution_count": null,
      "outputs": [
        {
          "output_type": "execute_result",
          "data": {
            "text/plain": [
              "array([8., 9., 9., 6., 6., 3., 4., 6., 1., 6., 5., 4., 0., 6., 4., 0., 1.,\n",
              "       8., 5., 3.])"
            ]
          },
          "metadata": {
            "tags": []
          },
          "execution_count": 13
        }
      ]
    },
    {
      "cell_type": "code",
      "metadata": {
        "colab": {
          "base_uri": "https://localhost:8080/",
          "height": 1000
        },
        "id": "fY0-lxDpcNsU",
        "outputId": "5d130154-37fd-4db7-a1a1-7bf519fe76ae"
      },
      "source": [
        "import matplotlib.pyplot as plt\n",
        "image_size = 28\n",
        "x_train_ = x_train.reshape(x_train.shape[0], image_size, image_size)\n",
        "for i in range(16):\n",
        "  plt.grid(False)\n",
        "  plt.imshow(x_train_[i], cmap=plt.cm.binary)\n",
        "  plt.show()"
      ],
      "execution_count": null,
      "outputs": [
        {
          "output_type": "display_data",
          "data": {
            "image/png": "[encoded data removed]",
            "text/plain": [
              "<Figure size 432x288 with 1 Axes>"
            ]
          },
          "metadata": {
            "tags": []
          }
        },
        {
          "output_type": "display_data",
          "data": {
            "image/png": "[encoded data removed]",
            "text/plain": [
              "<Figure size 432x288 with 1 Axes>"
            ]
          },
          "metadata": {
            "tags": []
          }
        },
        {
          "output_type": "display_data",
          "data": {
            "image/png": "[encoded data removed]",
            "text/plain": [
              "<Figure size 432x288 with 1 Axes>"
            ]
          },
          "metadata": {
            "tags": []
          }
        },
        {
          "output_type": "display_data",
          "data": {
            "image/png": "[encoded data removed]",
            "text/plain": [
              "<Figure size 432x288 with 1 Axes>"
            ]
          },
          "metadata": {
            "tags": []
          }
        },
        {
          "output_type": "display_data",
          "data": {
            "image/png": "[encoded data removed]",
            "text/plain": [
              "<Figure size 432x288 with 1 Axes>"
            ]
          },
          "metadata": {
            "tags": []
          }
        },
        {
          "output_type": "display_data",
          "data": {
            "image/png": "[encoded data removed]",
            "text/plain": [
              "<Figure size 432x288 with 1 Axes>"
            ]
          },
          "metadata": {
            "tags": []
          }
        },
        {
          "output_type": "display_data",
          "data": {
            "image/png": "[encoded data removed]",
            "text/plain": [
              "<Figure size 432x288 with 1 Axes>"
            ]
          },
          "metadata": {
            "tags": []
          }
        },
        {
          "output_type": "display_data",
          "data": {
            "image/png": "[encoded data removed]",
            "text/plain": [
              "<Figure size 432x288 with 1 Axes>"
            ]
          },
          "metadata": {
            "tags": []
          }
        },
        {
          "output_type": "display_data",
          "data": {
            "image/png": "[encoded data removed]",
            "text/plain": [
              "<Figure size 432x288 with 1 Axes>"
            ]
          },
          "metadata": {
            "tags": []
          }
        },
        {
          "output_type": "display_data",
          "data": {
            "image/png": "[encoded data removed]",
            "text/plain": [
              "<Figure size 432x288 with 1 Axes>"
            ]
          },
          "metadata": {
            "tags": []
          }
        },
        {
          "output_type": "display_data",
          "data": {
            "image/png": "[encoded data removed]",
            "text/plain": [
              "<Figure size 432x288 with 1 Axes>"
            ]
          },
          "metadata": {
            "tags": []
          }
        },
        {
          "output_type": "display_data",
          "data": {
            "image/png": "[encoded data removed]",
            "text/plain": [
              "<Figure size 432x288 with 1 Axes>"
            ]
          },
          "metadata": {
            "tags": []
          }
        },
        {
          "output_type": "display_data",
          "data": {
            "image/png": "[encoded data removed]",
            "text/plain": [
              "<Figure size 432x288 with 1 Axes>"
            ]
          },
          "metadata": {
            "tags": []
          }
        },
        {
          "output_type": "display_data",
          "data": {
            "image/png": "[encoded data removed]",
            "text/plain": [
              "<Figure size 432x288 with 1 Axes>"
            ]
          },
          "metadata": {
            "tags": []
          }
        },
        {
          "output_type": "display_data",
          "data": {
            "image/png": "[encoded data removed]",
            "text/plain": [
              "<Figure size 432x288 with 1 Axes>"
            ]
          },
          "metadata": {
            "tags": []
          }
        },
        {
          "output_type": "display_data",
          "data": {
            "image/png": "[encoded data removed]",
            "text/plain": [
              "<Figure size 432x288 with 1 Axes>"
            ]
          },
          "metadata": {
            "tags": []
          }
        }
      ]
    },
    {
      "cell_type": "code",
      "metadata": {
        "id": "zhpDD3_rLQGN"
      },
      "source": [
        "# Divide all the values by 255 to normalize the image\n",
        "x_train /= 255.0\n",
        "x_test /= 255.0"
      ],
      "execution_count": null,
      "outputs": []
    },
    {
      "cell_type": "code",
      "metadata": {
        "id": "M5dGIxDuijV-"
      },
      "source": [
        "# Saving for feature selection and 1d classifiers\n",
        "x_train_fea = x_train\n",
        "x_test_fea = x_test\n",
        "x_train_1d = x_train\n",
        "x_test_1d = x_test"
      ],
      "execution_count": null,
      "outputs": []
    },
    {
      "cell_type": "code",
      "metadata": {
        "id": "71zvpvNNid1A"
      },
      "source": [
        "# Reshape the image size to be 28 x 28 \n",
        "image_size = 28\n",
        "x_train = x_train.reshape(x_train.shape[0], image_size, image_size, 1)\n",
        "x_test = x_test.reshape(x_test.shape[0], image_size, image_size, 1)"
      ],
      "execution_count": null,
      "outputs": []
    },
    {
      "cell_type": "code",
      "metadata": {
        "id": "WyxdY4DOiffG"
      },
      "source": [
        "num_classes = len(classes)"
      ],
      "execution_count": null,
      "outputs": []
    },
    {
      "cell_type": "markdown",
      "metadata": {
        "id": "Y-aRK5jkFo9F"
      },
      "source": [
        "# Random Forest"
      ]
    },
    {
      "cell_type": "code",
      "metadata": {
        "colab": {
          "base_uri": "https://localhost:8080/"
        },
        "id": "y8OJiN6HApdi",
        "outputId": "a52050c8-b867-4c01-9ddf-0eeba075c11e"
      },
      "source": [
        "from sklearn.model_selection import GridSearchCV\n",
        "from sklearn.ensemble.forest import RandomForestClassifier\n",
        "parameters = {'n_estimators': [100,120,140,160]}\n",
        "\n",
        "clf_rf = RandomForestClassifier(n_estimators = 150, n_jobs=-1, random_state=0)\n",
        "# model = GridSearchCV(clf_rf, parameters, n_jobs=-1)\n",
        "clf_rf.fit(x_train_1d, y_train)"
      ],
      "execution_count": null,
      "outputs": [
        {
          "output_type": "execute_result",
          "data": {
            "text/plain": [
              "RandomForestClassifier(bootstrap=True, ccp_alpha=0.0, class_weight=None,\n",
              "                       criterion='gini', max_depth=None, max_features='auto',\n",
              "                       max_leaf_nodes=None, max_samples=None,\n",
              "                       min_impurity_decrease=0.0, min_impurity_split=None,\n",
              "                       min_samples_leaf=1, min_samples_split=2,\n",
              "                       min_weight_fraction_leaf=0.0, n_estimators=150,\n",
              "                       n_jobs=-1, oob_score=False, random_state=0, verbose=0,\n",
              "                       warm_start=False)"
            ]
          },
          "metadata": {
            "tags": []
          },
          "execution_count": 111
        }
      ]
    },
    {
      "cell_type": "code",
      "metadata": {
        "colab": {
          "base_uri": "https://localhost:8080/"
        },
        "id": "1zXA3ZxoA6kK",
        "outputId": "09a3e986-e9b9-468c-871b-e96076bae223"
      },
      "source": [
        "y_pred = clf_rf.predict(x_test_1d)\n",
        "y_pred[:10]"
      ],
      "execution_count": null,
      "outputs": [
        {
          "output_type": "execute_result",
          "data": {
            "text/plain": [
              "array([3., 1., 2., 2., 3., 7., 5., 5., 1., 7.])"
            ]
          },
          "metadata": {
            "tags": []
          },
          "execution_count": 112
        }
      ]
    },
    {
      "cell_type": "code",
      "metadata": {
        "colab": {
          "base_uri": "https://localhost:8080/"
        },
        "id": "E4ziG3othLmT",
        "outputId": "9c6a76e7-4930-45e2-9498-72fe583d416a"
      },
      "source": [
        "accuracy = accuracy_score(y_test, y_pred)\n",
        "print(accuracy)"
      ],
      "execution_count": null,
      "outputs": [
        {
          "output_type": "stream",
          "text": [
            "0.7693333333333333\n"
          ],
          "name": "stdout"
        }
      ]
    },
    {
      "cell_type": "markdown",
      "metadata": {
        "id": "e03NQA-eI5X2"
      },
      "source": [
        "# KNN"
      ]
    },
    {
      "cell_type": "code",
      "metadata": {
        "colab": {
          "base_uri": "https://localhost:8080/"
        },
        "id": "heaSzHP6Gouv",
        "outputId": "eeddefb4-7c60-477b-c827-11b12defd7fe"
      },
      "source": [
        "from sklearn.neighbors import KNeighborsClassifier\n",
        "\n",
        "tuning_parameters = {'n_neighbors': [1,3,5,7,9,11]}\n",
        "\n",
        "knn = KNeighborsClassifier(n_neighbors = 5, n_jobs=-1)\n",
        "# knn = GridSearchCV(clf_knn, tuning_parameters, n_jobs=-1)\n",
        "knn.fit(x_train_1d, y_train)"
      ],
      "execution_count": null,
      "outputs": [
        {
          "output_type": "execute_result",
          "data": {
            "text/plain": [
              "KNeighborsClassifier(algorithm='auto', leaf_size=30, metric='minkowski',\n",
              "                     metric_params=None, n_jobs=-1, n_neighbors=5, p=2,\n",
              "                     weights='uniform')"
            ]
          },
          "metadata": {
            "tags": []
          },
          "execution_count": 114
        }
      ]
    },
    {
      "cell_type": "code",
      "metadata": {
        "colab": {
          "base_uri": "https://localhost:8080/"
        },
        "id": "yM83_paOQ_Ej",
        "outputId": "311c7c0d-9530-4193-9cf5-2ecaab3c3c03"
      },
      "source": [
        "y_pred = knn.predict(x_test_1d)\n",
        "y_pred[:10]"
      ],
      "execution_count": null,
      "outputs": [
        {
          "output_type": "execute_result",
          "data": {
            "text/plain": [
              "array([7., 1., 2., 2., 3., 3., 5., 5., 1., 7.])"
            ]
          },
          "metadata": {
            "tags": []
          },
          "execution_count": 115
        }
      ]
    },
    {
      "cell_type": "code",
      "metadata": {
        "colab": {
          "base_uri": "https://localhost:8080/"
        },
        "id": "pQE-l9CEhIrw",
        "outputId": "8ba0ba99-9fe8-47dc-9184-7af40b9e10ce"
      },
      "source": [
        "accuracy = accuracy_score(y_test, y_pred)\n",
        "print(accuracy)"
      ],
      "execution_count": null,
      "outputs": [
        {
          "output_type": "stream",
          "text": [
            "0.73375\n"
          ],
          "name": "stdout"
        }
      ]
    },
    {
      "cell_type": "markdown",
      "metadata": {
        "id": "sriAJykHI7wZ"
      },
      "source": [
        "# MLP"
      ]
    },
    {
      "cell_type": "code",
      "metadata": {
        "colab": {
          "background_save": true
        },
        "id": "rxz6HLNRGtgl",
        "outputId": "05c5381a-4585-43e2-f9aa-c870c3685cd9"
      },
      "source": [
        "from sklearn.neural_network import MLPClassifier\n",
        "\n",
        "tuning_parameaters = {'hidden_layer_sizes' : [(50,), (100,), (784,), (50,50), (100,100), (784,784), (50,50,50), (100,100,100)],\n",
        "                    'alpha' : list(10.0 ** -np.arange(1, 7))}\n",
        "\n",
        "mlp = MLPClassifier(hidden_layer_sizes=(100,100,100), random_state=0)\n",
        "# mlp = GridSearchCV(clf_mlp, param_grid=tuning_parameaters, n_jobs=-1)\n",
        "mlp.fit(x_train_1d, y_train)"
      ],
      "execution_count": null,
      "outputs": [
        {
          "output_type": "execute_result",
          "data": {
            "text/plain": [
              "MLPClassifier(activation='relu', alpha=0.0001, batch_size='auto', beta_1=0.9,\n",
              "              beta_2=0.999, early_stopping=False, epsilon=1e-08,\n",
              "              hidden_layer_sizes=(100, 100, 100), learning_rate='constant',\n",
              "              learning_rate_init=0.001, max_fun=15000, max_iter=200,\n",
              "              momentum=0.9, n_iter_no_change=10, nesterovs_momentum=True,\n",
              "              power_t=0.5, random_state=0, shuffle=True, solver='adam',\n",
              "              tol=0.0001, validation_fraction=0.1, verbose=False,\n",
              "              warm_start=False)"
            ]
          },
          "metadata": {
            "tags": []
          },
          "execution_count": 0
        }
      ]
    },
    {
      "cell_type": "code",
      "metadata": {
        "colab": {
          "background_save": true
        },
        "id": "TsY0mlBMH5lA",
        "outputId": "472462c4-ca77-4b1c-fc5c-328b781cd806"
      },
      "source": [
        "y_pred = mlp.predict(x_test_1d)\n",
        "y_pred[:10]"
      ],
      "execution_count": null,
      "outputs": [
        {
          "output_type": "execute_result",
          "data": {
            "text/plain": [
              "array([6., 1., 2., 2., 7., 7., 7., 5., 1., 2.])"
            ]
          },
          "metadata": {
            "tags": []
          },
          "execution_count": 0
        }
      ]
    },
    {
      "cell_type": "code",
      "metadata": {
        "colab": {
          "background_save": true
        },
        "id": "MU1DrNw5hBbg",
        "outputId": "c55c6250-c371-4142-d27d-607074414d8f"
      },
      "source": [
        "accuracy = accuracy_score(y_test, y_pred)\n",
        "print(accuracy)"
      ],
      "execution_count": null,
      "outputs": [
        {
          "output_type": "stream",
          "text": [
            "0.7591666666666667\n"
          ],
          "name": "stdout"
        }
      ]
    },
    {
      "cell_type": "markdown",
      "metadata": {
        "id": "ljSfZzB5Z0Au"
      },
      "source": [
        "# CNN"
      ]
    },
    {
      "cell_type": "code",
      "metadata": {
        "colab": {
          "background_save": true
        },
        "id": "5ctJjmcFZzUR"
      },
      "source": [
        "# CNN Model\n",
        "model = keras.Sequential()\n",
        "model.add(layers.Convolution2D(64, (3, 3),\n",
        "                        padding='same',\n",
        "                        input_shape=x_train.shape[1:], activation='relu'))\n",
        "model.add(layers.MaxPooling2D(pool_size=(3, 3)))\n",
        "model.add(layers.Convolution2D(128, (3, 3), padding='same', activation='relu'))\n",
        "model.add(layers.MaxPooling2D(pool_size=(3, 3)))\n",
        "model.add(layers.Convolution2D(64, (3, 3), padding='same', activation='relu'))\n",
        "model.add(layers.MaxPooling2D(pool_size =(3,3)))\n",
        "model.add(layers.Flatten())\n",
        "model.add(layers.Dense(128, activation='relu'))\n",
        "model.add(layers.Dense(num_classes, activation='softmax')) \n",
        "optimizer = tf.optimizers.Adam()\n",
        "model.compile(loss='sparse_categorical_crossentropy',\n",
        "              optimizer=optimizer,\n",
        "              metrics=['accuracy'])"
      ],
      "execution_count": null,
      "outputs": []
    },
    {
      "cell_type": "code",
      "metadata": {
        "colab": {
          "base_uri": "https://localhost:8080/"
        },
        "id": "kJ1oFmqtZ5cu",
        "outputId": "745177ad-3ea5-4586-bff1-38e0c18aff09"
      },
      "source": [
        "# Fit a model to the train data\n",
        "model.fit(x = x_train, y = y_train, batch_size = 100,  validation_split = 0.2, epochs=5)"
      ],
      "execution_count": null,
      "outputs": [
        {
          "output_type": "stream",
          "text": [
            "Epoch 1/5\n",
            "384/384 [==============================] - 49s 128ms/step - loss: 1.3954 - accuracy: 0.5126 - val_loss: 0.5900 - val_accuracy: 0.8139\n",
            "Epoch 2/5\n",
            "384/384 [==============================] - 49s 127ms/step - loss: 0.5519 - accuracy: 0.8276 - val_loss: 0.4879 - val_accuracy: 0.8457\n",
            "Epoch 3/5\n",
            "384/384 [==============================] - 48s 126ms/step - loss: 0.4246 - accuracy: 0.8669 - val_loss: 0.4172 - val_accuracy: 0.8707\n",
            "Epoch 4/5\n",
            "384/384 [==============================] - 49s 127ms/step - loss: 0.3585 - accuracy: 0.8900 - val_loss: 0.3657 - val_accuracy: 0.8857\n",
            "Epoch 5/5\n",
            "384/384 [==============================] - 49s 127ms/step - loss: 0.3101 - accuracy: 0.9028 - val_loss: 0.3990 - val_accuracy: 0.8717\n"
          ],
          "name": "stdout"
        },
        {
          "output_type": "execute_result",
          "data": {
            "text/plain": [
              "<tensorflow.python.keras.callbacks.History at 0x7fa136e5c450>"
            ]
          },
          "metadata": {
            "tags": []
          },
          "execution_count": 121
        }
      ]
    },
    {
      "cell_type": "code",
      "metadata": {
        "colab": {
          "base_uri": "https://localhost:8080/"
        },
        "id": "ie64kTjIZ-JA",
        "outputId": "677c23a9-9cc8-4a20-92c2-c3dc4e642d5b"
      },
      "source": [
        "y_predict = model.predict(x_test)\n",
        "y_predict[:2]"
      ],
      "execution_count": null,
      "outputs": [
        {
          "output_type": "execute_result",
          "data": {
            "text/plain": [
              "array([[5.7331502e-02, 1.0770162e-02, 7.3117194e-06, 1.7955775e-03,\n",
              "        8.3522132e-04, 2.6992700e-04, 8.5929477e-01, 6.8815485e-02,\n",
              "        1.5917904e-04, 7.2092854e-04],\n",
              "       [2.0305703e-04, 9.8652655e-01, 1.8722964e-04, 5.0187679e-03,\n",
              "        2.3325518e-04, 1.3398538e-04, 4.5185752e-04, 6.9455239e-03,\n",
              "        2.0934637e-04, 9.0538939e-05]], dtype=float32)"
            ]
          },
          "metadata": {
            "tags": []
          },
          "execution_count": 122
        }
      ]
    },
    {
      "cell_type": "code",
      "metadata": {
        "colab": {
          "base_uri": "https://localhost:8080/"
        },
        "id": "LF7XmDvMaDwl",
        "outputId": "5ad48379-b3f3-463c-c142-29e467a705a4"
      },
      "source": [
        "# Obtain the accuracy of the above model on the test data\n",
        "accuracy = model.evaluate(x_test, y_test)"
      ],
      "execution_count": null,
      "outputs": [
        {
          "output_type": "stream",
          "text": [
            "375/375 [==============================] - 6s 14ms/step - loss: 0.4127 - accuracy: 0.8717\n"
          ],
          "name": "stdout"
        }
      ]
    },
    {
      "cell_type": "markdown",
      "metadata": {
        "id": "7FsmJxj-e9Qx"
      },
      "source": [
        "# Feature Selection"
      ]
    },
    {
      "cell_type": "code",
      "metadata": {
        "id": "w_iTO7QSwxmg"
      },
      "source": [
        "# Taking old data inputs\n",
        "x_train = x_train_fea \n",
        "x_test = x_test_fea"
      ],
      "execution_count": null,
      "outputs": []
    },
    {
      "cell_type": "code",
      "metadata": {
        "id": "vFmGG1ahxVoy"
      },
      "source": [
        "x_train_1d = x_train_fea\n",
        "x_test_1d = x_test_fea"
      ],
      "execution_count": null,
      "outputs": []
    },
    {
      "cell_type": "code",
      "metadata": {
        "colab": {
          "base_uri": "https://localhost:8080/"
        },
        "id": "v8k6YL1Je_U1",
        "outputId": "52296e58-d46f-4b56-84b7-6fc5284659cf"
      },
      "source": [
        "from sklearn.feature_selection import chi2, SelectKBest\n",
        "n_features = 400\n",
        "bestfeatures = SelectKBest(score_func=chi2, k=100)\n",
        "fit = bestfeatures.fit(x_train_1d, y_train)\n",
        "dfscores = pd.DataFrame(fit.scores_)\n",
        "dfcolumns = pd.DataFrame(range(len(x_train_1d)))\n",
        "#concat two dataframes for better visualization \n",
        "\n",
        "featureScores = pd.concat([dfcolumns, dfscores],axis=1)\n",
        "featureScores.columns = ['Specs','Score']  #naming the dataframe columns\n",
        "print(featureScores.nlargest(n_features,'Score'))  #print 1 best features"
      ],
      "execution_count": null,
      "outputs": [
        {
          "output_type": "stream",
          "text": [
            "     Specs        Score\n",
            "529    529  5518.501042\n",
            "501    501  5166.244246\n",
            "506    506  4995.405104\n",
            "557    557  4758.476807\n",
            "478    478  4463.708750\n",
            "..     ...          ...\n",
            "423    423  1432.081864\n",
            "212    212  1427.521826\n",
            "61      61  1425.831740\n",
            "317    317  1423.286824\n",
            "356    356  1422.609461\n",
            "\n",
            "[400 rows x 2 columns]\n"
          ],
          "name": "stdout"
        }
      ]
    },
    {
      "cell_type": "code",
      "metadata": {
        "colab": {
          "base_uri": "https://localhost:8080/"
        },
        "id": "__vyw5FyrNiD",
        "outputId": "afe0847b-7f7c-43d9-d0bd-08a336a52749"
      },
      "source": [
        "fit.scores_[100:120]"
      ],
      "execution_count": null,
      "outputs": [
        {
          "output_type": "execute_result",
          "data": {
            "text/plain": [
              "array([2817.03491109, 2788.9838479 , 2684.54483605, 2603.29612546,\n",
              "       2573.31732163, 2676.37882182, 2481.86204225, 2088.58432816,\n",
              "       1491.61948824,  810.22297716,  153.80054002,           nan,\n",
              "                 nan,  204.42654187, 1109.29052238, 1950.91974846,\n",
              "       2535.61369022, 2766.7258332 , 2753.20347469, 2578.22331989])"
            ]
          },
          "metadata": {
            "tags": []
          },
          "execution_count": 33
        }
      ]
    },
    {
      "cell_type": "code",
      "metadata": {
        "colab": {
          "base_uri": "https://localhost:8080/",
          "height": 419
        },
        "id": "zkzwBc3JfB8g",
        "outputId": "24b2cff7-3538-4fd6-9c9c-28e81f23cf23"
      },
      "source": [
        "featureScores.nlargest(n_features,'Score')"
      ],
      "execution_count": null,
      "outputs": [
        {
          "output_type": "execute_result",
          "data": {
            "text/html": [
              "<div>\n",
              "<style scoped>\n",
              "    .dataframe tbody tr th:only-of-type {\n",
              "        vertical-align: middle;\n",
              "    }\n",
              "\n",
              "    .dataframe tbody tr th {\n",
              "        vertical-align: top;\n",
              "    }\n",
              "\n",
              "    .dataframe thead th {\n",
              "        text-align: right;\n",
              "    }\n",
              "</style>\n",
              "<table border=\"1\" class=\"dataframe\">\n",
              "  <thead>\n",
              "    <tr style=\"text-align: right;\">\n",
              "      <th></th>\n",
              "      <th>Specs</th>\n",
              "      <th>Score</th>\n",
              "    </tr>\n",
              "  </thead>\n",
              "  <tbody>\n",
              "    <tr>\n",
              "      <th>529</th>\n",
              "      <td>529</td>\n",
              "      <td>5518.501042</td>\n",
              "    </tr>\n",
              "    <tr>\n",
              "      <th>501</th>\n",
              "      <td>501</td>\n",
              "      <td>5166.244246</td>\n",
              "    </tr>\n",
              "    <tr>\n",
              "      <th>506</th>\n",
              "      <td>506</td>\n",
              "      <td>4995.405104</td>\n",
              "    </tr>\n",
              "    <tr>\n",
              "      <th>557</th>\n",
              "      <td>557</td>\n",
              "      <td>4758.476807</td>\n",
              "    </tr>\n",
              "    <tr>\n",
              "      <th>478</th>\n",
              "      <td>478</td>\n",
              "      <td>4463.708750</td>\n",
              "    </tr>\n",
              "    <tr>\n",
              "      <th>...</th>\n",
              "      <td>...</td>\n",
              "      <td>...</td>\n",
              "    </tr>\n",
              "    <tr>\n",
              "      <th>423</th>\n",
              "      <td>423</td>\n",
              "      <td>1432.081864</td>\n",
              "    </tr>\n",
              "    <tr>\n",
              "      <th>212</th>\n",
              "      <td>212</td>\n",
              "      <td>1427.521826</td>\n",
              "    </tr>\n",
              "    <tr>\n",
              "      <th>61</th>\n",
              "      <td>61</td>\n",
              "      <td>1425.831740</td>\n",
              "    </tr>\n",
              "    <tr>\n",
              "      <th>317</th>\n",
              "      <td>317</td>\n",
              "      <td>1423.286824</td>\n",
              "    </tr>\n",
              "    <tr>\n",
              "      <th>356</th>\n",
              "      <td>356</td>\n",
              "      <td>1422.609461</td>\n",
              "    </tr>\n",
              "  </tbody>\n",
              "</table>\n",
              "<p>400 rows × 2 columns</p>\n",
              "</div>"
            ],
            "text/plain": [
              "     Specs        Score\n",
              "529    529  5518.501042\n",
              "501    501  5166.244246\n",
              "506    506  4995.405104\n",
              "557    557  4758.476807\n",
              "478    478  4463.708750\n",
              "..     ...          ...\n",
              "423    423  1432.081864\n",
              "212    212  1427.521826\n",
              "61      61  1425.831740\n",
              "317    317  1423.286824\n",
              "356    356  1422.609461\n",
              "\n",
              "[400 rows x 2 columns]"
            ]
          },
          "metadata": {
            "tags": []
          },
          "execution_count": 34
        }
      ]
    },
    {
      "cell_type": "code",
      "metadata": {
        "colab": {
          "base_uri": "https://localhost:8080/",
          "height": 386
        },
        "id": "5Qi5qjMB2U5B",
        "outputId": "cb464344-baa8-49d6-d6fb-f8358c6da222"
      },
      "source": [
        "sns.displot(data=featureScores.nlargest(n_features,'Score'), x=\"Score\", y=\"Specs\", color=\"Red\")"
      ],
      "execution_count": null,
      "outputs": [
        {
          "output_type": "execute_result",
          "data": {
            "text/plain": [
              "<seaborn.axisgrid.FacetGrid at 0x7f91bcf9db10>"
            ]
          },
          "metadata": {
            "tags": []
          },
          "execution_count": 35
        },
        {
          "output_type": "display_data",
          "data": {
            "image/png": "[encoded data removed]",
            "text/plain": [
              "<Figure size 360x360 with 1 Axes>"
            ]
          },
          "metadata": {
            "tags": []
          }
        }
      ]
    },
    {
      "cell_type": "code",
      "metadata": {
        "id": "-ov5hVQ5fEWo"
      },
      "source": [
        "train_x_new = []\n",
        "for x_tr in x_train_1d:\n",
        "  temp = []\n",
        "  for i in featureScores.nlargest(n_features, 'Score')['Specs']:\n",
        "      temp.append(x_tr[i])\n",
        "  train_x_new.append(temp)"
      ],
      "execution_count": null,
      "outputs": []
    },
    {
      "cell_type": "code",
      "metadata": {
        "colab": {
          "base_uri": "https://localhost:8080/"
        },
        "id": "4v5oWNB6Flae",
        "outputId": "44590aa7-6485-436e-e990-42003044b272"
      },
      "source": [
        "train_x_new[0][115:120]"
      ],
      "execution_count": null,
      "outputs": [
        {
          "output_type": "execute_result",
          "data": {
            "text/plain": [
              "[0.28627450980392155, 1.0, 0.0, 0.9058823529411765, 0.0]"
            ]
          },
          "metadata": {
            "tags": []
          },
          "execution_count": 37
        }
      ]
    },
    {
      "cell_type": "code",
      "metadata": {
        "id": "7bJjtEVkfGVJ"
      },
      "source": [
        "test_x_new = []\n",
        "for x_te in x_test_1d:\n",
        "  temp = []\n",
        "  for i in featureScores.nlargest(n_features, 'Score')['Specs']:\n",
        "      temp.append(x_te[i])\n",
        "  test_x_new.append(temp)"
      ],
      "execution_count": null,
      "outputs": []
    },
    {
      "cell_type": "code",
      "metadata": {
        "colab": {
          "base_uri": "https://localhost:8080/"
        },
        "id": "Wv7-u6anHWHV",
        "outputId": "4fe457ac-5301-47da-ac89-20728e80a44c"
      },
      "source": [
        "test_x_new[0][:10]"
      ],
      "execution_count": null,
      "outputs": [
        {
          "output_type": "execute_result",
          "data": {
            "text/plain": [
              "[0.0, 0.0, 0.0, 0.0, 0.0, 0.0, 0.0, 0.0, 0.0, 0.0]"
            ]
          },
          "metadata": {
            "tags": []
          },
          "execution_count": 39
        }
      ]
    },
    {
      "cell_type": "code",
      "metadata": {
        "colab": {
          "base_uri": "https://localhost:8080/"
        },
        "id": "9crxNDCgNKVD",
        "outputId": "e8dbbc8a-b64f-405d-fbd8-67335b8821da"
      },
      "source": [
        "len(train_x_new)"
      ],
      "execution_count": null,
      "outputs": [
        {
          "output_type": "execute_result",
          "data": {
            "text/plain": [
              "48000"
            ]
          },
          "metadata": {
            "tags": []
          },
          "execution_count": 40
        }
      ]
    },
    {
      "cell_type": "code",
      "metadata": {
        "colab": {
          "base_uri": "https://localhost:8080/"
        },
        "id": "FdpJ84X5NNV-",
        "outputId": "68d1a51a-7509-4845-f2fb-78b0e9211952"
      },
      "source": [
        "len(test_x_new)"
      ],
      "execution_count": null,
      "outputs": [
        {
          "output_type": "execute_result",
          "data": {
            "text/plain": [
              "12000"
            ]
          },
          "metadata": {
            "tags": []
          },
          "execution_count": 41
        }
      ]
    },
    {
      "cell_type": "markdown",
      "metadata": {
        "id": "4l-czd4dgRm2"
      },
      "source": [
        "# Updating the dataset with new features"
      ]
    },
    {
      "cell_type": "code",
      "metadata": {
        "id": "wJF2oNmGv5kn"
      },
      "source": [
        "x_train = np.array(train_x_new)\n",
        "x_test = np.array(test_x_new)"
      ],
      "execution_count": null,
      "outputs": []
    },
    {
      "cell_type": "code",
      "metadata": {
        "id": "M-Hc9aFtHnjj"
      },
      "source": [
        "x_train_1d = x_train\n",
        "x_test_1d = x_test"
      ],
      "execution_count": null,
      "outputs": []
    },
    {
      "cell_type": "code",
      "metadata": {
        "id": "mNRrB0UOvwlX"
      },
      "source": [
        "# Reshape the image size to be 20 x 20 \n",
        "image_size = 20\n",
        "x_train = x_train.reshape(x_train.shape[0], image_size, image_size, 1)\n",
        "x_test = x_test.reshape(x_test.shape[0], image_size, image_size, 1)"
      ],
      "execution_count": null,
      "outputs": []
    },
    {
      "cell_type": "markdown",
      "metadata": {
        "id": "9TZOVJAKfm01"
      },
      "source": [
        "# Random Forest"
      ]
    },
    {
      "cell_type": "code",
      "metadata": {
        "colab": {
          "base_uri": "https://localhost:8080/"
        },
        "id": "bWLPEcU_fng4",
        "outputId": "9b457ccf-1498-4ddb-a8ee-fd064397651d"
      },
      "source": [
        "from sklearn.model_selection import GridSearchCV\n",
        "from sklearn.ensemble.forest import RandomForestClassifier\n",
        "parameters = {'n_estimators': [100,120,140,160]}\n",
        "\n",
        "clf_rf_fe = RandomForestClassifier(n_estimators = 280, n_jobs=-1, random_state=0)\n",
        "# clf_rf = GridSearchCV(clf_rf, parameters, n_jobs=-1)\n",
        "clf_rf_fe.fit(x_train_1d, y_train)"
      ],
      "execution_count": null,
      "outputs": [
        {
          "output_type": "execute_result",
          "data": {
            "text/plain": [
              "RandomForestClassifier(bootstrap=True, ccp_alpha=0.0, class_weight=None,\n",
              "                       criterion='gini', max_depth=None, max_features='auto',\n",
              "                       max_leaf_nodes=None, max_samples=None,\n",
              "                       min_impurity_decrease=0.0, min_impurity_split=None,\n",
              "                       min_samples_leaf=1, min_samples_split=2,\n",
              "                       min_weight_fraction_leaf=0.0, n_estimators=280,\n",
              "                       n_jobs=-1, oob_score=False, random_state=0, verbose=0,\n",
              "                       warm_start=False)"
            ]
          },
          "metadata": {
            "tags": []
          },
          "execution_count": 54
        }
      ]
    },
    {
      "cell_type": "code",
      "metadata": {
        "colab": {
          "base_uri": "https://localhost:8080/"
        },
        "id": "KGiEBSrRfti7",
        "outputId": "9ff58db0-cc42-40bd-c687-9ba19ea84ab5"
      },
      "source": [
        "y_pred = clf_rf_fe.predict(x_test_1d)\n",
        "y_pred[:10]"
      ],
      "execution_count": null,
      "outputs": [
        {
          "output_type": "execute_result",
          "data": {
            "text/plain": [
              "array([8., 9., 9., 6., 6., 3., 4., 6., 1., 6.])"
            ]
          },
          "metadata": {
            "tags": []
          },
          "execution_count": 55
        }
      ]
    },
    {
      "cell_type": "code",
      "metadata": {
        "colab": {
          "base_uri": "https://localhost:8080/"
        },
        "id": "0x45stiXhXW2",
        "outputId": "6016909d-a58b-4603-dd62-0e531f73c9b6"
      },
      "source": [
        "accuracy = accuracy_score(y_test, y_pred)\n",
        "print(accuracy)"
      ],
      "execution_count": 66,
      "outputs": [
        {
          "output_type": "stream",
          "text": [
            "0.788\n"
          ],
          "name": "stdout"
        }
      ]
    },
    {
      "cell_type": "markdown",
      "metadata": {
        "id": "LLuMo1cCfw_x"
      },
      "source": [
        "# KNN"
      ]
    },
    {
      "cell_type": "code",
      "metadata": {
        "colab": {
          "base_uri": "https://localhost:8080/"
        },
        "id": "7V6Muuc8fySR",
        "outputId": "15654933-a34f-4598-f033-f22f919341ae"
      },
      "source": [
        "from sklearn.neighbors import KNeighborsClassifier\n",
        "\n",
        "tuning_parameters = {'n_neighbors': [1,3,5,7,9,11]}\n",
        "\n",
        "knn_fe = KNeighborsClassifier(n_neighbors = 5, n_jobs=-1)\n",
        "# knn = GridSearchCV(clf_knn, tuning_parameters, n_jobs=-1)\n",
        "knn_fe.fit(x_train_1d, y_train)"
      ],
      "execution_count": 67,
      "outputs": [
        {
          "output_type": "execute_result",
          "data": {
            "text/plain": [
              "KNeighborsClassifier(algorithm='auto', leaf_size=30, metric='minkowski',\n",
              "                     metric_params=None, n_jobs=-1, n_neighbors=5, p=2,\n",
              "                     weights='uniform')"
            ]
          },
          "metadata": {
            "tags": []
          },
          "execution_count": 67
        }
      ]
    },
    {
      "cell_type": "code",
      "metadata": {
        "colab": {
          "base_uri": "https://localhost:8080/"
        },
        "id": "tBfH44_Ff4us",
        "outputId": "bdd39dcd-8945-466e-e437-81c4ea0bc4ce"
      },
      "source": [
        "y_pred = knn_fe.predict(x_test_1d)\n",
        "y_pred[:10]"
      ],
      "execution_count": 68,
      "outputs": [
        {
          "output_type": "execute_result",
          "data": {
            "text/plain": [
              "array([8., 9., 9., 6., 6., 3., 4., 6., 1., 6.])"
            ]
          },
          "metadata": {
            "tags": []
          },
          "execution_count": 68
        }
      ]
    },
    {
      "cell_type": "code",
      "metadata": {
        "colab": {
          "base_uri": "https://localhost:8080/"
        },
        "id": "jaj1pjLlhZWo",
        "outputId": "c7398aef-0d94-4cb5-e842-3c3a27fce12c"
      },
      "source": [
        "accuracy = accuracy_score(y_test, y_pred)\n",
        "print(accuracy)"
      ],
      "execution_count": 69,
      "outputs": [
        {
          "output_type": "stream",
          "text": [
            "0.7076666666666667\n"
          ],
          "name": "stdout"
        }
      ]
    },
    {
      "cell_type": "markdown",
      "metadata": {
        "id": "o6txTf74f7sY"
      },
      "source": [
        "# MLP"
      ]
    },
    {
      "cell_type": "code",
      "metadata": {
        "colab": {
          "base_uri": "https://localhost:8080/"
        },
        "id": "wazuyFTxf9BZ",
        "outputId": "eb390990-9ee4-4e94-981c-ba7c4b8be37d"
      },
      "source": [
        "from sklearn.neural_network import MLPClassifier\n",
        "\n",
        "tuning_parameaters = {'hidden_layer_sizes' : [(50,), (100,), (784,), (50,50), (100,100), (784,784), (50,50,50), (100,100,100)],\n",
        "                    'alpha' : list(10.0 ** -np.arange(1, 7))}\n",
        "\n",
        "mlp_fe = MLPClassifier(hidden_layer_sizes=(784,784), random_state=0)\n",
        "# mlp = GridSearchCV(clf_mlp, param_grid=tuning_parameaters, n_jobs=-1)\n",
        "mlp_fe.fit(x_train_1d, y_train)"
      ],
      "execution_count": 70,
      "outputs": [
        {
          "output_type": "execute_result",
          "data": {
            "text/plain": [
              "MLPClassifier(activation='relu', alpha=0.0001, batch_size='auto', beta_1=0.9,\n",
              "              beta_2=0.999, early_stopping=False, epsilon=1e-08,\n",
              "              hidden_layer_sizes=(784, 784), learning_rate='constant',\n",
              "              learning_rate_init=0.001, max_fun=15000, max_iter=200,\n",
              "              momentum=0.9, n_iter_no_change=10, nesterovs_momentum=True,\n",
              "              power_t=0.5, random_state=0, shuffle=True, solver='adam',\n",
              "              tol=0.0001, validation_fraction=0.1, verbose=False,\n",
              "              warm_start=False)"
            ]
          },
          "metadata": {
            "tags": []
          },
          "execution_count": 70
        }
      ]
    },
    {
      "cell_type": "code",
      "metadata": {
        "colab": {
          "base_uri": "https://localhost:8080/"
        },
        "id": "Qwtdg-PIgCI2",
        "outputId": "d03c1f58-6ee9-4fc1-a6d1-7cce4e3b4e2d"
      },
      "source": [
        "y_pred = mlp_fe.predict(x_test_1d)\n",
        "y_pred[:10]"
      ],
      "execution_count": 71,
      "outputs": [
        {
          "output_type": "execute_result",
          "data": {
            "text/plain": [
              "array([8., 9., 9., 9., 6., 3., 4., 6., 1., 6.])"
            ]
          },
          "metadata": {
            "tags": []
          },
          "execution_count": 71
        }
      ]
    },
    {
      "cell_type": "code",
      "metadata": {
        "colab": {
          "base_uri": "https://localhost:8080/"
        },
        "id": "aU9c_U0ahb7b",
        "outputId": "161b5412-5b1b-4f30-d8c1-08c5ab017203"
      },
      "source": [
        "accuracy = accuracy_score(y_test, y_pred)\n",
        "print(accuracy)"
      ],
      "execution_count": 72,
      "outputs": [
        {
          "output_type": "stream",
          "text": [
            "0.788\n"
          ],
          "name": "stdout"
        }
      ]
    },
    {
      "cell_type": "markdown",
      "metadata": {
        "id": "zIpafPaegCx-"
      },
      "source": [
        "# CNN"
      ]
    },
    {
      "cell_type": "code",
      "metadata": {
        "id": "3fUvRWmjgxYk"
      },
      "source": [
        "# Reshaping\n",
        "image_size = 28\n",
        "x_train = x_train_fea.reshape(x_train.shape[0], image_size, image_size, 1)\n",
        "x_test = x_test_fea.reshape(x_test.shape[0], image_size, image_size, 1)"
      ],
      "execution_count": 82,
      "outputs": []
    },
    {
      "cell_type": "code",
      "metadata": {
        "id": "nWkWBSEAgEKZ"
      },
      "source": [
        "# CNN Model\n",
        "model_fe = keras.Sequential()\n",
        "model_fe.add(layers.Convolution2D(64, (3, 3),\n",
        "                        padding='same',\n",
        "                        input_shape=x_train.shape[1:], activation='relu'))\n",
        "model_fe.add(layers.MaxPooling2D(pool_size=(3, 3)))\n",
        "model_fe.add(layers.Convolution2D(128, (3, 3), padding='same', activation='relu'))\n",
        "model_fe.add(layers.MaxPooling2D(pool_size=(3, 3)))\n",
        "model_fe.add(layers.Convolution2D(64, (3, 3), padding='same', activation='relu'))\n",
        "model_fe.add(layers.MaxPooling2D(pool_size =(3,3)))\n",
        "model_fe.add(layers.Flatten())\n",
        "model_fe.add(layers.Dense(128, activation='relu'))\n",
        "model_fe.add(layers.Dense(len(classes), activation='softmax')) \n",
        "optimizer = tf.optimizers.Adam()\n",
        "model_fe.compile(loss='sparse_categorical_crossentropy',\n",
        "              optimizer=optimizer,\n",
        "              metrics=['accuracy'])"
      ],
      "execution_count": 83,
      "outputs": []
    },
    {
      "cell_type": "code",
      "metadata": {
        "colab": {
          "base_uri": "https://localhost:8080/"
        },
        "id": "GaKN6qIjgJtK",
        "outputId": "45bf65bd-cf13-4986-e841-2cbfae851056"
      },
      "source": [
        "# Fit a model to the train data\n",
        "model_fe.fit(x = x_train, y = y_train, batch_size = 100,  validation_split = 0.2, epochs=15)"
      ],
      "execution_count": 85,
      "outputs": [
        {
          "output_type": "stream",
          "text": [
            "Epoch 1/15\n",
            "384/384 [==============================] - 47s 122ms/step - loss: 0.7359 - accuracy: 0.7664 - val_loss: 0.5460 - val_accuracy: 0.8343\n",
            "Epoch 2/15\n",
            "384/384 [==============================] - 47s 123ms/step - loss: 0.4823 - accuracy: 0.8491 - val_loss: 0.4739 - val_accuracy: 0.8502\n",
            "Epoch 3/15\n",
            "384/384 [==============================] - 47s 123ms/step - loss: 0.3919 - accuracy: 0.8784 - val_loss: 0.3873 - val_accuracy: 0.8830\n",
            "Epoch 4/15\n",
            "384/384 [==============================] - 47s 122ms/step - loss: 0.3417 - accuracy: 0.8928 - val_loss: 0.3646 - val_accuracy: 0.8901\n",
            "Epoch 5/15\n",
            "384/384 [==============================] - 47s 122ms/step - loss: 0.2953 - accuracy: 0.9070 - val_loss: 0.3593 - val_accuracy: 0.8886\n",
            "Epoch 6/15\n",
            "384/384 [==============================] - 47s 122ms/step - loss: 0.2644 - accuracy: 0.9157 - val_loss: 0.3322 - val_accuracy: 0.8989\n",
            "Epoch 7/15\n",
            "384/384 [==============================] - 47s 122ms/step - loss: 0.2372 - accuracy: 0.9252 - val_loss: 0.3148 - val_accuracy: 0.9041\n",
            "Epoch 8/15\n",
            "384/384 [==============================] - 47s 122ms/step - loss: 0.2087 - accuracy: 0.9328 - val_loss: 0.3287 - val_accuracy: 0.9009\n",
            "Epoch 9/15\n",
            "384/384 [==============================] - 47s 122ms/step - loss: 0.1892 - accuracy: 0.9389 - val_loss: 0.3249 - val_accuracy: 0.9006\n",
            "Epoch 10/15\n",
            "384/384 [==============================] - 47s 122ms/step - loss: 0.1639 - accuracy: 0.9464 - val_loss: 0.3242 - val_accuracy: 0.9045\n",
            "Epoch 11/15\n",
            "384/384 [==============================] - 47s 122ms/step - loss: 0.1454 - accuracy: 0.9533 - val_loss: 0.3396 - val_accuracy: 0.9033\n",
            "Epoch 12/15\n",
            "384/384 [==============================] - 47s 122ms/step - loss: 0.1229 - accuracy: 0.9608 - val_loss: 0.3673 - val_accuracy: 0.8983\n",
            "Epoch 13/15\n",
            "384/384 [==============================] - 47s 122ms/step - loss: 0.1036 - accuracy: 0.9666 - val_loss: 0.3656 - val_accuracy: 0.9018\n",
            "Epoch 14/15\n",
            "384/384 [==============================] - 47s 122ms/step - loss: 0.0877 - accuracy: 0.9719 - val_loss: 0.4177 - val_accuracy: 0.8988\n",
            "Epoch 15/15\n",
            "384/384 [==============================] - 47s 122ms/step - loss: 0.0822 - accuracy: 0.9729 - val_loss: 0.4186 - val_accuracy: 0.9024\n"
          ],
          "name": "stdout"
        },
        {
          "output_type": "execute_result",
          "data": {
            "text/plain": [
              "<tensorflow.python.keras.callbacks.History at 0x7f91825a73d0>"
            ]
          },
          "metadata": {
            "tags": []
          },
          "execution_count": 85
        }
      ]
    },
    {
      "cell_type": "code",
      "metadata": {
        "colab": {
          "base_uri": "https://localhost:8080/"
        },
        "id": "SJjqbVy8gMTh",
        "outputId": "7a59c16e-31e9-4209-e8f3-89b3d1396856"
      },
      "source": [
        "y_pred = model_fe.predict(x_test)\n",
        "y_pred[:2]"
      ],
      "execution_count": 86,
      "outputs": [
        {
          "output_type": "execute_result",
          "data": {
            "text/plain": [
              "array([[8.0273094e-11, 3.5359790e-16, 2.1405140e-06, 1.5757057e-07,\n",
              "        7.0417237e-14, 1.8883543e-15, 5.8531192e-12, 3.6040872e-14,\n",
              "        9.9999774e-01, 1.1223305e-08],\n",
              "       [1.5369899e-06, 8.2290478e-07, 1.8412165e-05, 5.8398962e-01,\n",
              "        1.3089204e-09, 2.2239140e-08, 9.7403836e-06, 4.9439736e-06,\n",
              "        5.5842195e-03, 4.1039068e-01]], dtype=float32)"
            ]
          },
          "metadata": {
            "tags": []
          },
          "execution_count": 86
        }
      ]
    },
    {
      "cell_type": "code",
      "metadata": {
        "id": "k79rp_MaomCf",
        "colab": {
          "base_uri": "https://localhost:8080/"
        },
        "outputId": "e2bf77e5-6600-4e23-b6e0-6ab6e26f5fb9"
      },
      "source": [
        "# Obtain the accuracy of the above model on the test data\n",
        "accuracy = model_fe.evaluate(x_test, y_test)"
      ],
      "execution_count": 87,
      "outputs": [
        {
          "output_type": "stream",
          "text": [
            "375/375 [==============================] - 5s 14ms/step - loss: 0.4575 - accuracy: 0.8934\n"
          ],
          "name": "stdout"
        }
      ]
    },
    {
      "cell_type": "code",
      "metadata": {
        "colab": {
          "base_uri": "https://localhost:8080/",
          "height": 265
        },
        "id": "gAKbvnSo5o66",
        "outputId": "014c4405-d4b7-43d3-970a-b34e1f21d5fb"
      },
      "source": [
        "df = pd.DataFrame([[0.769, 0.788]])\n",
        "ax = sns.barplot(data=df, ci=\"sd\")"
      ],
      "execution_count": 98,
      "outputs": [
        {
          "output_type": "display_data",
          "data": {
            "image/png": "[encoded data removed]",
            "text/plain": [
              "<Figure size 432x288 with 1 Axes>"
            ]
          },
          "metadata": {
            "tags": [],
            "needs_background": "light"
          }
        }
      ]
    },
    {
      "cell_type": "code",
      "metadata": {
        "colab": {
          "base_uri": "https://localhost:8080/",
          "height": 265
        },
        "id": "deY_zTbh6M3P",
        "outputId": "3e1c57c2-9794-4e49-e813-6df732206877"
      },
      "source": [
        "df = pd.DataFrame([[0.707, 0.73375]])\n",
        "ax = sns.barplot(data=df, ci=\"sd\")"
      ],
      "execution_count": 99,
      "outputs": [
        {
          "output_type": "display_data",
          "data": {
            "image/png": "[encoded data removed]",
            "text/plain": [
              "<Figure size 432x288 with 1 Axes>"
            ]
          },
          "metadata": {
            "tags": [],
            "needs_background": "light"
          }
        }
      ]
    },
    {
      "cell_type": "code",
      "metadata": {
        "colab": {
          "base_uri": "https://localhost:8080/",
          "height": 265
        },
        "id": "xmaVU8z66Ndt",
        "outputId": "ddf2546d-12d3-473f-8fd6-b0931e1ae0e0"
      },
      "source": [
        "df = pd.DataFrame([[0.759, 0.788]])\n",
        "ax = sns.barplot(data=df, ci=\"sd\")"
      ],
      "execution_count": 100,
      "outputs": [
        {
          "output_type": "display_data",
          "data": {
            "image/png": "[encoded data removed]",
            "text/plain": [
              "<Figure size 432x288 with 1 Axes>"
            ]
          },
          "metadata": {
            "tags": [],
            "needs_background": "light"
          }
        }
      ]
    },
    {
      "cell_type": "code",
      "metadata": {
        "colab": {
          "base_uri": "https://localhost:8080/",
          "height": 265
        },
        "id": "Q-k0duG36OGG",
        "outputId": "c3625229-5d45-4d4f-e813-ebfe560d16a7"
      },
      "source": [
        "df = pd.DataFrame([[0.8717, 0.8924]])\n",
        "ax = sns.barplot(data=df, ci=\"sd\")"
      ],
      "execution_count": 101,
      "outputs": [
        {
          "output_type": "display_data",
          "data": {
            "image/png": "[encoded data removed]",
            "text/plain": [
              "<Figure size 432x288 with 1 Axes>"
            ]
          },
          "metadata": {
            "tags": [],
            "needs_background": "light"
          }
        }
      ]
    }
  ]
}